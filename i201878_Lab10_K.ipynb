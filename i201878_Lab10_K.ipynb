{
 "cells": [
  {
   "cell_type": "markdown",
   "id": "24bbbc1c",
   "metadata": {},
   "source": [
    "# Create a numpy array of int, characters, float and find their shapes"
   ]
  },
  {
   "cell_type": "code",
   "execution_count": 8,
   "id": "56db490d",
   "metadata": {},
   "outputs": [
    {
     "name": "stdout",
     "output_type": "stream",
     "text": [
      "Array :  [2 3 5 5 4 6 1 7 6 7]\n",
      "Shape :  10\n"
     ]
    }
   ],
   "source": [
    "import numpy as np\n",
    "int_arr = np.random.randint(1,8,10)\n",
    "print(\"Array : \", int_arr)\n",
    "print(\"Shape : \", int_arr.shape[0])"
   ]
  },
  {
   "cell_type": "code",
   "execution_count": 13,
   "id": "42084e80",
   "metadata": {},
   "outputs": [
    {
     "name": "stdout",
     "output_type": "stream",
     "text": [
      "Array :  [0.9182076  0.91838215 0.31108926 0.08758577 0.09763383 0.1015869\n",
      " 0.86294284 0.36543627]\n",
      "Shape :  8\n"
     ]
    }
   ],
   "source": [
    "float_arr = np.random.random(8)\n",
    "print(\"Array : \", float_arr)\n",
    "print(\"Shape : \", float_arr.shape[0])"
   ]
  },
  {
   "cell_type": "code",
   "execution_count": 30,
   "id": "bbb299db",
   "metadata": {},
   "outputs": [
    {
     "name": "stdout",
     "output_type": "stream",
     "text": [
      "Array :  ['T' 'K' 'N' 'U' 'O']\n",
      "Shape :  5\n"
     ]
    }
   ],
   "source": [
    "arr = np.random.randint(65, 91, 5)\n",
    "char_arr = [0] * 5\n",
    "for i in range(len(arr)):\n",
    "    char_arr[i] = chr(arr[i])\n",
    "    count+=1\n",
    "char_arr = np.array(char_arr)\n",
    "print(\"Array : \", char_arr)\n",
    "print(\"Shape : \", char_arr.shape[0])"
   ]
  },
  {
   "cell_type": "markdown",
   "id": "8b058eab",
   "metadata": {},
   "source": [
    "# Create a zeros, empty, identity , eye and a full array"
   ]
  },
  {
   "cell_type": "code",
   "execution_count": 33,
   "id": "43d7ba32",
   "metadata": {},
   "outputs": [
    {
     "data": {
      "text/plain": [
       "array([0., 0., 0., 0., 0.])"
      ]
     },
     "execution_count": 33,
     "metadata": {},
     "output_type": "execute_result"
    }
   ],
   "source": [
    "zeros_arr = np.zeros(5)\n",
    "zeros_arr"
   ]
  },
  {
   "cell_type": "code",
   "execution_count": 36,
   "id": "679815ce",
   "metadata": {},
   "outputs": [
    {
     "data": {
      "text/plain": [
       "array([[1., 0., 0., 0., 0.],\n",
       "       [0., 1., 0., 0., 0.],\n",
       "       [0., 0., 1., 0., 0.],\n",
       "       [0., 0., 0., 1., 0.],\n",
       "       [0., 0., 0., 0., 1.]])"
      ]
     },
     "execution_count": 36,
     "metadata": {},
     "output_type": "execute_result"
    }
   ],
   "source": [
    "ident_arr = np.identity(5)\n",
    "ident_arr"
   ]
  },
  {
   "cell_type": "code",
   "execution_count": 41,
   "id": "de4cff8b",
   "metadata": {},
   "outputs": [
    {
     "data": {
      "text/plain": [
       "array([[1., 0., 0., 0.],\n",
       "       [0., 1., 0., 0.],\n",
       "       [0., 0., 1., 0.],\n",
       "       [0., 0., 0., 1.],\n",
       "       [0., 0., 0., 0.]])"
      ]
     },
     "execution_count": 41,
     "metadata": {},
     "output_type": "execute_result"
    }
   ],
   "source": [
    "eye_arr = np.eye(5,4)\n",
    "eye_arr"
   ]
  },
  {
   "cell_type": "code",
   "execution_count": 43,
   "id": "bca0c614",
   "metadata": {},
   "outputs": [
    {
     "data": {
      "text/plain": [
       "array([1., 1., 1., 1., 1.])"
      ]
     },
     "execution_count": 43,
     "metadata": {},
     "output_type": "execute_result"
    }
   ],
   "source": [
    "empty_arr = np.empty(5)\n",
    "empty_arr"
   ]
  },
  {
   "cell_type": "code",
   "execution_count": 45,
   "id": "90e3dddc",
   "metadata": {},
   "outputs": [
    {
     "data": {
      "text/plain": [
       "array([2, 2, 2, 2, 2, 2, 2, 2])"
      ]
     },
     "execution_count": 45,
     "metadata": {},
     "output_type": "execute_result"
    }
   ],
   "source": [
    "full_arr = np.full(8,2)\n",
    "full_arr"
   ]
  },
  {
   "cell_type": "markdown",
   "id": "41b7bb77",
   "metadata": {},
   "source": [
    "# Declare an array having the datatype of object, is it possible?"
   ]
  },
  {
   "cell_type": "code",
   "execution_count": 51,
   "id": "1fa46bbf",
   "metadata": {},
   "outputs": [
    {
     "data": {
      "text/plain": [
       "array([2, 4.34, 'Q', 'Helipad', '0.0', 0.0], dtype=object)"
      ]
     },
     "execution_count": 51,
     "metadata": {},
     "output_type": "execute_result"
    }
   ],
   "source": [
    "object_type_arr = np.array([2, 4.34, 'Q', 'Helipad', '0.0', 0.0], dtype=object)\n",
    "object_type_arr"
   ]
  },
  {
   "cell_type": "markdown",
   "id": "2f567005",
   "metadata": {},
   "source": [
    "# Create an array having 5 equally spaced numbers ranging from 5 to 15"
   ]
  },
  {
   "cell_type": "code",
   "execution_count": 53,
   "id": "9806de4b",
   "metadata": {},
   "outputs": [
    {
     "data": {
      "text/plain": [
       "array([ 5. ,  7.5, 10. , 12.5, 15. ])"
      ]
     },
     "execution_count": 53,
     "metadata": {},
     "output_type": "execute_result"
    }
   ],
   "source": [
    "ran_arr = np.linspace(5, 15, 5)\n",
    "ran_arr"
   ]
  },
  {
   "cell_type": "markdown",
   "id": "3701fd5f",
   "metadata": {},
   "source": [
    "# Create a numpy array ranging from 1 to 100."
   ]
  },
  {
   "cell_type": "code",
   "execution_count": 54,
   "id": "e81391ed",
   "metadata": {},
   "outputs": [
    {
     "data": {
      "text/plain": [
       "array([  1,   2,   3,   4,   5,   6,   7,   8,   9,  10,  11,  12,  13,\n",
       "        14,  15,  16,  17,  18,  19,  20,  21,  22,  23,  24,  25,  26,\n",
       "        27,  28,  29,  30,  31,  32,  33,  34,  35,  36,  37,  38,  39,\n",
       "        40,  41,  42,  43,  44,  45,  46,  47,  48,  49,  50,  51,  52,\n",
       "        53,  54,  55,  56,  57,  58,  59,  60,  61,  62,  63,  64,  65,\n",
       "        66,  67,  68,  69,  70,  71,  72,  73,  74,  75,  76,  77,  78,\n",
       "        79,  80,  81,  82,  83,  84,  85,  86,  87,  88,  89,  90,  91,\n",
       "        92,  93,  94,  95,  96,  97,  98,  99, 100])"
      ]
     },
     "execution_count": 54,
     "metadata": {},
     "output_type": "execute_result"
    }
   ],
   "source": [
    "arr = np.arange(1, 101)\n",
    "arr"
   ]
  },
  {
   "cell_type": "markdown",
   "id": "d442eb32",
   "metadata": {},
   "source": [
    "# Reshape the above array into (100,15). Is it possible?"
   ]
  },
  {
   "cell_type": "code",
   "execution_count": 55,
   "id": "3b8f098e",
   "metadata": {},
   "outputs": [],
   "source": [
    "# No. It is not posssible!!!"
   ]
  },
  {
   "cell_type": "markdown",
   "id": "5ce4a081",
   "metadata": {},
   "source": [
    "# Reshape the array into (100,10)."
   ]
  },
  {
   "cell_type": "code",
   "execution_count": 64,
   "id": "6f7aa9e3",
   "metadata": {},
   "outputs": [
    {
     "data": {
      "text/plain": [
       "array([[  1,   2,   3,   4,   5,   6,   7,   8,   9,  10],\n",
       "       [ 11,  12,  13,  14,  15,  16,  17,  18,  19,  20],\n",
       "       [ 21,  22,  23,  24,  25,  26,  27,  28,  29,  30],\n",
       "       [ 31,  32,  33,  34,  35,  36,  37,  38,  39,  40],\n",
       "       [ 41,  42,  43,  44,  45,  46,  47,  48,  49,  50],\n",
       "       [ 51,  52,  53,  54,  55,  56,  57,  58,  59,  60],\n",
       "       [ 61,  62,  63,  64,  65,  66,  67,  68,  69,  70],\n",
       "       [ 71,  72,  73,  74,  75,  76,  77,  78,  79,  80],\n",
       "       [ 81,  82,  83,  84,  85,  86,  87,  88,  89,  90],\n",
       "       [ 91,  92,  93,  94,  95,  96,  97,  98,  99, 100]])"
      ]
     },
     "execution_count": 64,
     "metadata": {},
     "output_type": "execute_result"
    }
   ],
   "source": [
    "resha_arr = arr.reshape(10, 10)\n",
    "resha_arr"
   ]
  },
  {
   "cell_type": "markdown",
   "id": "b6ce4489",
   "metadata": {},
   "source": [
    "# Flatten and ravel the reshaped array. What is the difference?"
   ]
  },
  {
   "cell_type": "code",
   "execution_count": 66,
   "id": "432b9a9b",
   "metadata": {},
   "outputs": [
    {
     "data": {
      "text/plain": [
       "array([  1,   2,   3,   4,   5,   6,   7,   8,   9,  10,  11,  12,  13,\n",
       "        14,  15,  16,  17,  18,  19,  20,  21,  22,  23,  24,  25,  26,\n",
       "        27,  28,  29,  30,  31,  32,  33,  34,  35,  36,  37,  38,  39,\n",
       "        40,  41,  42,  43,  44,  45,  46,  47,  48,  49,  50,  51,  52,\n",
       "        53,  54,  55,  56,  57,  58,  59,  60,  61,  62,  63,  64,  65,\n",
       "        66,  67,  68,  69,  70,  71,  72,  73,  74,  75,  76,  77,  78,\n",
       "        79,  80,  81,  82,  83,  84,  85,  86,  87,  88,  89,  90,  91,\n",
       "        92,  93,  94,  95,  96,  97,  98,  99, 100])"
      ]
     },
     "execution_count": 66,
     "metadata": {},
     "output_type": "execute_result"
    }
   ],
   "source": [
    "arr = resha_arr.flatten()\n",
    "arr"
   ]
  },
  {
   "cell_type": "code",
   "execution_count": 67,
   "id": "362bd831",
   "metadata": {},
   "outputs": [
    {
     "data": {
      "text/plain": [
       "array([  1,   2,   3,   4,   5,   6,   7,   8,   9,  10,  11,  12,  13,\n",
       "        14,  15,  16,  17,  18,  19,  20,  21,  22,  23,  24,  25,  26,\n",
       "        27,  28,  29,  30,  31,  32,  33,  34,  35,  36,  37,  38,  39,\n",
       "        40,  41,  42,  43,  44,  45,  46,  47,  48,  49,  50,  51,  52,\n",
       "        53,  54,  55,  56,  57,  58,  59,  60,  61,  62,  63,  64,  65,\n",
       "        66,  67,  68,  69,  70,  71,  72,  73,  74,  75,  76,  77,  78,\n",
       "        79,  80,  81,  82,  83,  84,  85,  86,  87,  88,  89,  90,  91,\n",
       "        92,  93,  94,  95,  96,  97,  98,  99, 100])"
      ]
     },
     "execution_count": 67,
     "metadata": {},
     "output_type": "execute_result"
    }
   ],
   "source": [
    "ravel_arr = resha_arr.ravel()\n",
    "ravel_arr"
   ]
  },
  {
   "cell_type": "markdown",
   "id": "3a68982e",
   "metadata": {},
   "source": [
    "Flatten is deep copy and is faster than ravel process while ravel is shallow copy and is slower than flatten process..."
   ]
  },
  {
   "cell_type": "markdown",
   "id": "9896262c",
   "metadata": {},
   "source": [
    "# Take an array [[1 2 3] [4 5 6] [ 7 8 9]]. Sum it along 0 and 1 axis"
   ]
  },
  {
   "cell_type": "code",
   "execution_count": 75,
   "id": "dbe7e3bf",
   "metadata": {},
   "outputs": [
    {
     "name": "stdout",
     "output_type": "stream",
     "text": [
      "Column sum :  [12 15 18]\n",
      "Row sum :  [ 6 15 24]\n"
     ]
    }
   ],
   "source": [
    "arr = np.array([[1,2,3], [4,5,6], [7,8,9]])\n",
    "r_sum = np.sum(arr, axis=1)\n",
    "c_sum = np.sum(arr, axis=0)\n",
    "print(\"Column sum : \", c_sum)\n",
    "print(\"Row sum : \", r_sum)"
   ]
  },
  {
   "cell_type": "markdown",
   "id": "fa2fc21f",
   "metadata": {},
   "source": [
    "# Find the number of bytes used by your array"
   ]
  },
  {
   "cell_type": "code",
   "execution_count": 77,
   "id": "dfda4a24",
   "metadata": {},
   "outputs": [
    {
     "name": "stdout",
     "output_type": "stream",
     "text": [
      "36\n"
     ]
    }
   ],
   "source": [
    "print(arr.nbytes)"
   ]
  },
  {
   "cell_type": "markdown",
   "id": "2e7c22b0",
   "metadata": {},
   "source": [
    "# Find the maximum and minimum values in a 1D array."
   ]
  },
  {
   "cell_type": "code",
   "execution_count": 100,
   "id": "490ccf52",
   "metadata": {},
   "outputs": [
    {
     "name": "stdout",
     "output_type": "stream",
     "text": [
      "Max Value :  12\n",
      "Min Value :  1\n"
     ]
    }
   ],
   "source": [
    "arr = np.array([(1,10,5,3,2,1,8,12,4)])\n",
    "print(\"Max Value : \", np.max(arr))\n",
    "print(\"Min Value : \", np.min(arr))"
   ]
  },
  {
   "cell_type": "markdown",
   "id": "bfcb721b",
   "metadata": {},
   "source": [
    "# Find the maximum and minimum values in 2D array"
   ]
  },
  {
   "cell_type": "code",
   "execution_count": 108,
   "id": "9c152dab",
   "metadata": {},
   "outputs": [
    {
     "name": "stdout",
     "output_type": "stream",
     "text": [
      "Column minimum :  [1 2 3]\n",
      "Column maximum :  [7 8 9]\n",
      "Row minimum :  [1 4 7]\n",
      "Row maximum :  [3 6 9]\n"
     ]
    }
   ],
   "source": [
    "arr = np.array([[1,2,3] , [4,5,6] , [7,8,9]])\n",
    "print(\"Column minimum : \", np.min(arr , axis=0))\n",
    "print(\"Column maximum : \", np.max(arr , axis=0))\n",
    "print(\"Row minimum : \", np.min(arr , axis=1))\n",
    "print(\"Row maximum : \", np.max(arr , axis=1))"
   ]
  },
  {
   "cell_type": "markdown",
   "id": "d4c461a9",
   "metadata": {},
   "source": [
    "# Sort an array"
   ]
  },
  {
   "cell_type": "code",
   "execution_count": 112,
   "id": "7c2e75f3",
   "metadata": {},
   "outputs": [
    {
     "data": {
      "text/plain": [
       "array([  0,   2,   3,   5,   8,  43,  88, 987])"
      ]
     },
     "execution_count": 112,
     "metadata": {},
     "output_type": "execute_result"
    }
   ],
   "source": [
    "arr = np.array([2,3,5,43,0,987,8,88])\n",
    "sort_arr= np.sort(arr)\n",
    "sort_arr"
   ]
  },
  {
   "cell_type": "markdown",
   "id": "e7b27c8a",
   "metadata": {},
   "source": [
    "# Is * and mul the same as dot product for numpy arrays and matrices? Check."
   ]
  },
  {
   "cell_type": "code",
   "execution_count": 124,
   "id": "2eda2e70",
   "metadata": {},
   "outputs": [
    {
     "name": "stdout",
     "output_type": "stream",
     "text": [
      "Dot Product :  34\n",
      "mul :  [ 6  4 24]\n"
     ]
    }
   ],
   "source": [
    "arr_1 = np.array([1,2,3])\n",
    "arr_2 = np.array([6,2,8])\n",
    "\n",
    "dot_arr = np.dot(arr_1, arr_2)\n",
    "mul_arr = arr_1 * arr_2\n",
    "\n",
    "print(\"Dot Product : \", dot_arr)\n",
    "print(\"mul : \", mul_arr)\n"
   ]
  },
  {
   "cell_type": "markdown",
   "id": "a5cf784c",
   "metadata": {},
   "source": [
    "Both are Different..."
   ]
  },
  {
   "cell_type": "markdown",
   "id": "8b2ff176",
   "metadata": {},
   "source": [
    "# Take the square root and norm of an array."
   ]
  },
  {
   "cell_type": "code",
   "execution_count": 130,
   "id": "668dd6b2",
   "metadata": {},
   "outputs": [
    {
     "name": "stdout",
     "output_type": "stream",
     "text": [
      "Square Root :  [1. 2. 3. 5.]\n",
      "Normalized Array :  26.888659319497503\n"
     ]
    }
   ],
   "source": [
    "arr = [1,4,9,25]\n",
    "sqrt_arr = np.sqrt(arr)\n",
    "norm_arr = np.linalg.norm(arr)\n",
    "print(\"Square Root : \", sqrt_arr)\n",
    "print(\"Normalized Array : \", norm_arr)"
   ]
  },
  {
   "cell_type": "markdown",
   "id": "fc8d016a",
   "metadata": {},
   "source": [
    "# Find the std, non-zero, zero values and mean of an array."
   ]
  },
  {
   "cell_type": "code",
   "execution_count": 134,
   "id": "4cdf3131",
   "metadata": {},
   "outputs": [
    {
     "name": "stdout",
     "output_type": "stream",
     "text": [
      "std :  9.256754290786809\n",
      "Non zero :  [12 30 60  3  2]\n",
      "Zero :  [0 0]\n",
      "mean :  9.75\n"
     ]
    }
   ],
   "source": [
    "arr2 = np.array([12,30,60,3,0,2,0])\n",
    "print(\"std : \" , np.std(arr))\n",
    "print(\"Non zero : \", arr2[arr2!=0])\n",
    "print(\"Zero : \", arr2[arr2==0])\n",
    "print(\"mean : \", np.mean(arr))"
   ]
  },
  {
   "cell_type": "markdown",
   "id": "75f96806",
   "metadata": {},
   "source": [
    "# Convert some angles to radians and vice versa."
   ]
  },
  {
   "cell_type": "code",
   "execution_count": 137,
   "id": "2ebb2ba8",
   "metadata": {},
   "outputs": [
    {
     "name": "stdout",
     "output_type": "stream",
     "text": [
      "Array :  [ 58.34086995 270.40938124 138.87739904  61.5592774   37.18908437]\n",
      "Radians Array :  [1.01824027 4.71953403 2.42386787 1.07441208 0.64907197]\n",
      "Angles Array :  [ 58.34086995 270.40938124 138.87739904  61.5592774   37.18908437]\n"
     ]
    }
   ],
   "source": [
    "angles_arr = np.random.uniform(0,360,5)\n",
    "\n",
    "print(\"Array : \", angles_arr)\n",
    "rad_arr = np.radians(angles_arr)\n",
    "print(\"Radians Array : \", rad_arr)\n",
    "angle_arr = np.degrees(rad_arr)\n",
    "print(\"Angles Array : \", angle_arr)"
   ]
  },
  {
   "cell_type": "markdown",
   "id": "b72b2af7",
   "metadata": {},
   "source": [
    "# Save and load some of your arrays"
   ]
  },
  {
   "cell_type": "code",
   "execution_count": 142,
   "id": "e96d9cc9",
   "metadata": {},
   "outputs": [
    {
     "data": {
      "text/plain": [
       "array([10, 22, 33, 44])"
      ]
     },
     "execution_count": 142,
     "metadata": {},
     "output_type": "execute_result"
    }
   ],
   "source": [
    "arr = np.array([10,22,33,44])\n",
    "np.save('Array_saved', arr)\n",
    "np.load('Array_saved.npy')"
   ]
  },
  {
   "cell_type": "markdown",
   "id": "1d4697e8",
   "metadata": {},
   "source": [
    "# Calculate the mean, std, var, max, min, of an array with shape (3,3,12,3) containing floats drawn from a normal distribution with mean 21 and sigma 4.5. see the np.random.normal."
   ]
  },
  {
   "cell_type": "code",
   "execution_count": 145,
   "id": "174fe1e4",
   "metadata": {},
   "outputs": [
    {
     "data": {
      "text/plain": [
       "array([[[[17.3473004 , 17.94745932, 26.1243939 ],\n",
       "         [ 6.94041622, 22.2037789 , 16.39548725],\n",
       "         [24.27233199, 19.06087244, 23.74103735],\n",
       "         [21.98038778, 22.28169427, 18.49601363],\n",
       "         [20.64677339, 18.40579235, 16.79461376],\n",
       "         [17.35076234, 26.97329773, 18.27847075],\n",
       "         [23.21880128, 27.11102164, 24.34705952],\n",
       "         [18.91103762, 17.20213491, 18.07051311],\n",
       "         [25.28928248, 13.85861293, 18.44961325],\n",
       "         [13.09374862, 14.44996255, 22.69675127],\n",
       "         [17.59412522,  7.53350146, 18.39291537],\n",
       "         [23.970992  , 14.96207291, 19.84871184]],\n",
       "\n",
       "        [[20.33349315, 18.46664866, 25.42902807],\n",
       "         [21.50201814, 20.81750327, 12.76425639],\n",
       "         [17.17969716, 14.03395657, 22.3106445 ],\n",
       "         [19.82956563, 21.3529292 , 16.7169448 ],\n",
       "         [27.59035121, 25.7282752 ,  5.01826622],\n",
       "         [20.51762126, 24.50924241, 22.21966341],\n",
       "         [22.14407646, 27.57858004, 22.38181201],\n",
       "         [14.64796729, 17.85398679, 20.18738271],\n",
       "         [24.56641427, 12.51188941, 19.54226568],\n",
       "         [17.73294659, 20.23859986, 19.32110153],\n",
       "         [18.03874702, 14.70147402, 23.44711394],\n",
       "         [18.07353125, 21.39307675, 11.0075163 ]],\n",
       "\n",
       "        [[26.50865549, 21.09273959, 17.69903531],\n",
       "         [22.94924591, 18.76482939, 30.33817244],\n",
       "         [25.6645144 , 21.09124329, 19.36312905],\n",
       "         [19.36769563, 12.26287672, 17.06755939],\n",
       "         [21.25835436, 16.35138548, 17.78411342],\n",
       "         [13.08959766, 19.55696176, 16.0566054 ],\n",
       "         [22.78472736, 22.60754131, 24.37908956],\n",
       "         [19.59358502, 25.04381845, 20.35784579],\n",
       "         [19.94711595, 14.07383591, 18.54847424],\n",
       "         [21.07498156, 19.85407421, 26.76886803],\n",
       "         [27.99947498, 19.08862287, 16.03284155],\n",
       "         [27.19714407, 29.04404027, 25.98262429]]],\n",
       "\n",
       "\n",
       "       [[[20.22105975, 19.94824879, 18.81457149],\n",
       "         [20.4416787 , 20.27905703, 20.72742064],\n",
       "         [20.93803332, 25.88891936, 17.51696695],\n",
       "         [27.18767305, 13.64931932, 23.53565952],\n",
       "         [20.24979761, 14.01103701, 26.58005531],\n",
       "         [19.28445743, 26.1718572 , 20.80766106],\n",
       "         [20.85275031, 22.26739974, 21.40600095],\n",
       "         [26.21469502, 23.16581595, 16.31438116],\n",
       "         [16.83268718, 26.82115972, 21.45427336],\n",
       "         [19.79951556, 17.37329343, 20.58139324],\n",
       "         [22.09260163, 16.10177164, 29.40179527],\n",
       "         [26.25595471, 25.75902041, 25.03765635]],\n",
       "\n",
       "        [[18.74219609, 21.0550648 , 21.48920153],\n",
       "         [25.32833565, 14.9488219 , 25.13582739],\n",
       "         [22.749542  , 25.0666274 , 22.41053631],\n",
       "         [18.22517972, 22.89372975, 12.1619064 ],\n",
       "         [17.98319199, 29.66484026, 25.28627802],\n",
       "         [22.18984863, 26.57452476, 24.80330761],\n",
       "         [24.18403963, 25.06337614, 24.94885418],\n",
       "         [22.46478651, 19.6447704 , 17.84270277],\n",
       "         [14.01365147, 23.83620743, 20.94242669],\n",
       "         [21.52619038, 22.36739325, 23.18384933],\n",
       "         [19.47751837, 16.69150389, 23.91000139],\n",
       "         [23.98425473, 23.72744363, 23.50862468]],\n",
       "\n",
       "        [[18.21551908, 22.36925152, 24.94846836],\n",
       "         [13.57892219, 21.93793086, 15.56427459],\n",
       "         [26.71161389, 21.13318996, 25.7789928 ],\n",
       "         [21.1955371 , 25.76416768, 15.78936383],\n",
       "         [20.38004777, 26.77049274, 28.68661562],\n",
       "         [21.616142  , 29.52424921, 18.83511432],\n",
       "         [21.95492009, 17.38098364, 18.52175834],\n",
       "         [19.45480848, 24.05009998, 27.97672498],\n",
       "         [18.29375373, 25.861451  , 20.1863484 ],\n",
       "         [26.92924971, 25.22198563, 16.76145954],\n",
       "         [22.08490832, 26.09787865, 19.81290858],\n",
       "         [18.10139797, 13.20693214, 24.7479467 ]]],\n",
       "\n",
       "\n",
       "       [[[28.70931066, 23.01511155, 15.1742805 ],\n",
       "         [28.2472898 , 21.13191855, 19.44213732],\n",
       "         [15.82803193, 21.71777852,  8.72282031],\n",
       "         [15.33806054, 22.38481891, 29.06853708],\n",
       "         [20.89718992, 20.90397324, 29.58103011],\n",
       "         [25.18525596, 10.82282025, 13.25536768],\n",
       "         [16.62588557, 19.71933256, 14.17050327],\n",
       "         [22.17688073, 17.09967645, 14.68907059],\n",
       "         [22.58209018, 26.20166062, 19.62670331],\n",
       "         [32.68796639, 21.13137352, 25.14723812],\n",
       "         [19.57079475, 20.58242239, 27.19572384],\n",
       "         [20.917181  , 27.28546657, 24.12712627]],\n",
       "\n",
       "        [[26.131131  , 18.30214323, 18.5480752 ],\n",
       "         [27.07591145, 15.96826657, 19.19228252],\n",
       "         [13.58009131, 20.14604743, 29.64131942],\n",
       "         [26.93438682, 28.48067022, 24.0396944 ],\n",
       "         [31.40688881, 19.53221455, 29.67194073],\n",
       "         [23.19338963, 22.50346395, 14.98272404],\n",
       "         [10.9705098 , 28.72727532, 19.81411387],\n",
       "         [15.09356768, 16.45403512, 18.61202913],\n",
       "         [20.9622563 , 12.28112668, 16.66068891],\n",
       "         [19.76192451, 23.36852113, 31.6779119 ],\n",
       "         [21.14252189, 27.0567141 , 21.45297232],\n",
       "         [13.63967538, 19.14489928, 24.26862468]],\n",
       "\n",
       "        [[18.12581455, 24.49225549, 19.43314841],\n",
       "         [16.29272081, 21.84978238, 19.9549287 ],\n",
       "         [14.67187997, 17.5120758 , 21.65828932],\n",
       "         [25.06679296, 31.3856939 , 15.27894827],\n",
       "         [22.05234733, 28.29615183, 27.3126098 ],\n",
       "         [20.88077011, 15.15502087, 16.00534087],\n",
       "         [20.92790416, 22.59794392, 27.18901824],\n",
       "         [11.38031048, 18.78004649, 20.06449666],\n",
       "         [22.19519559, 26.30299939, 21.15881902],\n",
       "         [20.69874467, 11.34075775, 23.78845927],\n",
       "         [20.036047  , 21.9721594 , 23.04058327],\n",
       "         [23.58217003, 20.96928837, 19.2297371 ]]]])"
      ]
     },
     "execution_count": 145,
     "metadata": {},
     "output_type": "execute_result"
    }
   ],
   "source": [
    "arr = np.random.normal(21, 4.5, [3,3,12,3])\n",
    "arr"
   ]
  },
  {
   "cell_type": "code",
   "execution_count": 149,
   "id": "1ffe5e09",
   "metadata": {},
   "outputs": [
    {
     "name": "stdout",
     "output_type": "stream",
     "text": [
      "Mean :  20.932393342955706\n",
      "Std :  4.678350377049893\n",
      "Var :  21.88696225044287\n",
      "Max :  32.687966385795974\n",
      "Min :  5.018266216658107\n"
     ]
    }
   ],
   "source": [
    "print(\"Mean : \", np.mean(arr))\n",
    "print(\"Std : \", np.std(arr))\n",
    "print(\"Var : \", np.var(arr))\n",
    "print(\"Max : \", np.max(arr))\n",
    "print(\"Min : \", np.min(arr))"
   ]
  }
 ],
 "metadata": {
  "kernelspec": {
   "display_name": "Python 3",
   "language": "python",
   "name": "python3"
  },
  "language_info": {
   "codemirror_mode": {
    "name": "ipython",
    "version": 3
   },
   "file_extension": ".py",
   "mimetype": "text/x-python",
   "name": "python",
   "nbconvert_exporter": "python",
   "pygments_lexer": "ipython3",
   "version": "3.8.8"
  }
 },
 "nbformat": 4,
 "nbformat_minor": 5
}
