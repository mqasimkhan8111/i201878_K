{
 "cells": [
  {
   "cell_type": "markdown",
   "metadata": {},
   "source": [
    "### Numpy Exercise\n",
    "In this exercise, we will be working with a dataset with the information of baseball players. Here is the code to read the dataset and convert it into lists."
   ]
  },
  {
   "cell_type": "code",
   "execution_count": 2,
   "metadata": {},
   "outputs": [
    {
     "name": "stdout",
     "output_type": "stream",
     "text": [
      "Populating the interactive namespace from numpy and matplotlib\n"
     ]
    }
   ],
   "source": [
    "%pylab inline"
   ]
  },
  {
   "cell_type": "code",
   "execution_count": 3,
   "metadata": {},
   "outputs": [],
   "source": [
    "import pandas as pd"
   ]
  },
  {
   "cell_type": "code",
   "execution_count": 4,
   "metadata": {},
   "outputs": [],
   "source": [
    "bbdata=pd.read_csv('baseball.csv')\n",
    "\n",
    "height=list(bbdata['height'])\n",
    "weight=list(bbdata['weights'])"
   ]
  },
  {
   "cell_type": "code",
   "execution_count": 5,
   "metadata": {},
   "outputs": [
    {
     "data": {
      "text/plain": [
       "<matplotlib.collections.PathCollection at 0x21269a50c70>"
      ]
     },
     "execution_count": 5,
     "metadata": {},
     "output_type": "execute_result"
    },
    {
     "data": {
      "image/png": "[encoded data removed]",
      "text/plain": [
       "<Figure size 432x288 with 1 Axes>"
      ]
     },
     "metadata": {
      "needs_background": "light"
     },
     "output_type": "display_data"
    }
   ],
   "source": [
    "plt.scatter(height,weight)"
   ]
  },
  {
   "cell_type": "markdown",
   "metadata": {},
   "source": [
    "### Real Work begins\n",
    "We have height and weidths as lists now, you task is to convert them into numpy arrays and then acheive the following insights.\n",
    "The units are height in inches, weight in Kgs"
   ]
  },
  {
   "cell_type": "code",
   "execution_count": 6,
   "metadata": {},
   "outputs": [
    {
     "name": "stdout",
     "output_type": "stream",
     "text": [
      "[74 74 72 ... 75 75 73]\n",
      "[180. 215. 210. ... 205. 190. 195.]\n"
     ]
    }
   ],
   "source": [
    "# height is available as a regular list\n",
    "\n",
    "# Import numpy\n",
    "import numpy as np\n",
    "\n",
    "# Create a Numpy array from height: np_height\n",
    "np_height = np.array(height)\n",
    "\n",
    "# Print out np_height\n",
    "print(np_height)\n",
    "\n",
    "\n",
    "# Create array from weight with correct units: np_weight_kg \n",
    "np_weight_kg = np.array(weight)\n",
    "\n",
    "# print the array np_weight_kg\n",
    "print(np_weight_kg)"
   ]
  },
  {
   "cell_type": "markdown",
   "metadata": {},
   "source": [
    "* 1 meter = 39.3701 inches"
   ]
  },
  {
   "cell_type": "code",
   "execution_count": 7,
   "metadata": {},
   "outputs": [
    {
     "name": "stdout",
     "output_type": "stream",
     "text": [
      "[1.87959899 1.87959899 1.82879901 ... 1.90499897 1.90499897 1.854199  ]\n"
     ]
    }
   ],
   "source": [
    "# Convert np_height to meters: np_height_m\n",
    "np_height_m = np_height/39.3701\n",
    "\n",
    "# Print np_height_m\n",
    "print(np_height_m)"
   ]
  },
  {
   "cell_type": "markdown",
   "metadata": {},
   "source": [
    "- BMI=weight(kg)/(height (in m)**2)"
   ]
  },
  {
   "cell_type": "code",
   "execution_count": 8,
   "metadata": {},
   "outputs": [
    {
     "name": "stdout",
     "output_type": "stream",
     "text": [
      "[50.94975517 60.85665201 62.78954524 ... 56.48906288 52.35571681\n",
      " 56.71813303]\n"
     ]
    }
   ],
   "source": [
    "# Calculate the BMI: bmi\n",
    "bmi = np_weight_kg / (np_height_m**2)\n",
    "\n",
    "# Print out bmi\n",
    "print(bmi)"
   ]
  },
  {
   "cell_type": "markdown",
   "metadata": {},
   "source": [
    "Create a boolean Numpy array: the element of the array should be True if the corresponding baseball player's BMI is below 21. You can use the < operator for this. Name the array light.\n",
    "Print the array light.\n",
    "Print out a Numpy array with the BMIs of all baseball players whose BMI is below 21. Use light inside square brackets to do a selection on the bmi array.\n"
   ]
  },
  {
   "cell_type": "code",
   "execution_count": 9,
   "metadata": {},
   "outputs": [
    {
     "name": "stdout",
     "output_type": "stream",
     "text": [
      "[False False False ... False False False]\n",
      "[]\n"
     ]
    }
   ],
   "source": [
    "light = bmi < 21\n",
    "print(light)\n",
    "print(bmi[light])"
   ]
  },
  {
   "cell_type": "code",
   "execution_count": 10,
   "metadata": {},
   "outputs": [
    {
     "name": "stdout",
     "output_type": "stream",
     "text": [
      "<class 'numpy.ndarray'>\n",
      "(4, 2)\n"
     ]
    }
   ],
   "source": [
    "# Create baseball, a list of lists\n",
    "baseball = [[180, 78.4],\n",
    "            [215, 102.7],\n",
    "            [210, 98.5],\n",
    "            [188, 75.2]]\n",
    "\n",
    "# Import numpy\n",
    "import numpy as np\n",
    "# Create a 2D Numpy array from baseball: np_baseball\n",
    "np_baseball = np.array(baseball)\n",
    "\n",
    "# Print out the type of np_baseball\n",
    "print(type(np_baseball))\n",
    "\n",
    "# Print out the shape of np_baseball\n",
    "print(np_baseball.shape)"
   ]
  },
  {
   "cell_type": "code",
   "execution_count": 11,
   "metadata": {},
   "outputs": [
    {
     "name": "stdout",
     "output_type": "stream",
     "text": [
      "(2, 1034)\n"
     ]
    }
   ],
   "source": [
    "# Create a 2D Numpy array named np_baseball from the lists of weight and height\n",
    "np_baseball = np.array([weight, height])\n",
    "\n",
    "# Print out the shape of np_baseball\n",
    "print(np_baseball.shape)\n"
   ]
  },
  {
   "cell_type": "markdown",
   "metadata": {},
   "source": [
    "- If you want to convert the units of height and weight. As a first step, create a Numpy array with two values: 0.0254, 0.453592. Name this array conversion.\n",
    "Multiply np_baseball with conversion and print out the result."
   ]
  },
  {
   "cell_type": "code",
   "execution_count": 12,
   "metadata": {},
   "outputs": [
    {
     "name": "stdout",
     "output_type": "stream",
     "text": [
      "[[ 4.572     5.461     5.334    ...  5.207     4.826     4.953   ]\n",
      " [33.565808 33.565808 32.658624 ... 34.0194   34.0194   33.112216]]\n"
     ]
    }
   ],
   "source": [
    "conversion = np.array([0.0254, 0.453592])\n",
    "print(np_baseball * conversion.reshape(-1, 1))"
   ]
  },
  {
   "cell_type": "markdown",
   "metadata": {},
   "source": [
    "### Now it's time for some statistics"
   ]
  },
  {
   "cell_type": "code",
   "execution_count": 13,
   "metadata": {},
   "outputs": [
    {
     "name": "stdout",
     "output_type": "stream",
     "text": [
      "73.6972920696325\n",
      "74.0\n",
      "2.304703041620148\n",
      "[[1.         0.51603124]\n",
      " [0.51603124 1.        ]]\n"
     ]
    }
   ],
   "source": [
    "# Print out the mean of np_height\n",
    "mean = np.mean(np_height)\n",
    "\n",
    "# Print out the mean of np_height\n",
    "print(mean)\n",
    "\n",
    "# Print median height. Replace 'None'\n",
    "print(np.median(np_height))\n",
    "# Print out the standard deviation on height. Replace 'None'\n",
    "print(std(height))\n",
    "# Print out correlation between first and second column. Replace 'None'\n",
    "np_weight_kg[np.isnan(np_weight_kg)] = 0\n",
    "print(np.corrcoef(np_weight_kg, np_height))"
   ]
  },
  {
   "cell_type": "code",
   "execution_count": 14,
   "metadata": {},
   "outputs": [
    {
     "name": "stdout",
     "output_type": "stream",
     "text": [
      "928\n"
     ]
    }
   ],
   "source": [
    "# Print the index of player with maximum height\n",
    "print(height.index(max(height)))"
   ]
  },
  {
   "cell_type": "code",
   "execution_count": 15,
   "metadata": {},
   "outputs": [],
   "source": [
    "#Replace all the players height greater than 6 Feet with 6 Feet\n",
    "np_height[np_height>6]=6"
   ]
  },
  {
   "cell_type": "code",
   "execution_count": 16,
   "metadata": {},
   "outputs": [
    {
     "data": {
      "text/plain": [
       "1034"
      ]
     },
     "execution_count": 16,
     "metadata": {},
     "output_type": "execute_result"
    }
   ],
   "source": [
    "#Count number of players with weight greater than 75 kg..\n",
    "len(np_weight_kg > 76)"
   ]
  },
  {
   "cell_type": "code",
   "execution_count": 17,
   "metadata": {},
   "outputs": [
    {
     "name": "stdout",
     "output_type": "stream",
     "text": [
      "Sorted Heights :  [6 6 6 ... 6 6 6]\n",
      "Sorting indexes :  [   0  680  681 ...  353  323 1033]\n"
     ]
    }
   ],
   "source": [
    "# Sort the height, and get the sorting index as well\n",
    "print(\"Sorted Heights : \", np.sort(np_height))\n",
    "sorting_index = np_height.argsort()\n",
    "print(\"Sorting indexes : \", sorting_index)"
   ]
  },
  {
   "cell_type": "code",
   "execution_count": 18,
   "metadata": {},
   "outputs": [
    {
     "name": "stdout",
     "output_type": "stream",
     "text": [
      "(2, 1034)\n",
      "(1034, 2)\n"
     ]
    }
   ],
   "source": [
    "#Reshape the 2 x Number of Players array to Number of Players x 2\n",
    "a = np.array([height, weight])\n",
    "print(a.shape)\n",
    "print(a.reshape(-1, 2).shape)"
   ]
  },
  {
   "cell_type": "code",
   "execution_count": 19,
   "metadata": {},
   "outputs": [
    {
     "data": {
      "text/plain": [
       "<matplotlib.collections.PathCollection at 0x2126a1ebeb0>"
      ]
     },
     "execution_count": 19,
     "metadata": {},
     "output_type": "execute_result"
    },
    {
     "data": {
      "image/png": "[encoded data removed]",
      "text/plain": [
       "<Figure size 432x288 with 1 Axes>"
      ]
     },
     "metadata": {
      "needs_background": "light"
     },
     "output_type": "display_data"
    }
   ],
   "source": [
    "#Generate Scatter Plot, See plt.scatter, use height as one axis and weight as second axis\n",
    "plt.scatter(height, weight)"
   ]
  },
  {
   "cell_type": "code",
   "execution_count": 20,
   "metadata": {},
   "outputs": [
    {
     "data": {
      "text/plain": [
       "<matplotlib.patches.FancyArrow at 0x2126a681400>"
      ]
     },
     "execution_count": 20,
     "metadata": {},
     "output_type": "execute_result"
    },
    {
     "data": {
      "image/png": "[encoded data removed]",
      "text/plain": [
       "<Figure size 432x288 with 1 Axes>"
      ]
     },
     "metadata": {
      "needs_background": "light"
     },
     "output_type": "display_data"
    }
   ],
   "source": [
    "#Now choose a random player, and project player height and weight to this random player, you can plot\n",
    "# the vector using plt.arrow function\n",
    "ran = np.random.randint(1, np_height.shape[0])\n",
    "plt.arrow(np_height[ran], np_weight_kg[ran], 1,1)"
   ]
  },
  {
   "cell_type": "markdown",
   "metadata": {},
   "source": [
    "#### Advanced Operations"
   ]
  },
  {
   "cell_type": "markdown",
   "metadata": {},
   "source": [
    "1. Construct an array from the list: [1,2,3]\n",
    "2. Cast it into floats\n",
    "3. Create an array of int ranging from 0-10 \n",
    "4. Create an array containing 7 evenly spaced numbers between 0 and 23\n",
    "5. Create an array with shape (2,5,1,5,2,1) containing only the number 5\n",
    "6. Eliminate all length-1 dimensions. See the function squeeze.\n",
    "7. Reshape the resulting array from shape (2,5,3,2) to only 2D\n",
    "8. Calculate the mean, std, var, max, min, of an array with shape (3,3,12,3) containing floats drawn\n",
    "from a normal distribution with mean 21 and sigma 4.5. see the np.random.normal.\n",
    "9. Do the same but not on all elements but only on the 2nd dimension. \n",
    "10. Transform the array such that it is only 1d. See the function Flatten or ravel\n",
    "11. Remove all values smaller 15 and larger 26.\n",
    "12. Clip all values smaller 15 and larger 26 to NaN. See the function Clip\n",
    "13. Calculate the sum of the resulting array. It should not be NaN!.\n",
    "14. Convert the NaN’s to 0.0. See Where\n",
    "15. Save the array and load it again."
   ]
  },
  {
   "cell_type": "markdown",
   "metadata": {},
   "source": [
    "### Construct an array from the list: [1,2,3] "
   ]
  },
  {
   "cell_type": "code",
   "execution_count": 35,
   "metadata": {},
   "outputs": [
    {
     "data": {
      "text/plain": [
       "array([1, 2, 3])"
      ]
     },
     "execution_count": 35,
     "metadata": {},
     "output_type": "execute_result"
    }
   ],
   "source": [
    "l=[1,2,3]\n",
    "np_arr = np.array(l)\n",
    "np_arr"
   ]
  },
  {
   "cell_type": "markdown",
   "metadata": {},
   "source": [
    "###  Cast it into floats"
   ]
  },
  {
   "cell_type": "code",
   "execution_count": 36,
   "metadata": {},
   "outputs": [
    {
     "data": {
      "text/plain": [
       "array([1., 2., 3.])"
      ]
     },
     "execution_count": 36,
     "metadata": {},
     "output_type": "execute_result"
    }
   ],
   "source": [
    "cast_arr = np_arr.astype('float')\n",
    "cast_arr"
   ]
  },
  {
   "cell_type": "markdown",
   "metadata": {},
   "source": [
    "### Create an array of int ranging from 0-10 "
   ]
  },
  {
   "cell_type": "code",
   "execution_count": 37,
   "metadata": {},
   "outputs": [
    {
     "data": {
      "text/plain": [
       "array([ 1,  0,  6,  1,  7, 10,  1,  3])"
      ]
     },
     "execution_count": 37,
     "metadata": {},
     "output_type": "execute_result"
    }
   ],
   "source": [
    "arr = np.random.randint(0,11,8)\n",
    "arr"
   ]
  },
  {
   "cell_type": "markdown",
   "metadata": {},
   "source": [
    "### Create an array containing 7 evenly spaced numbers between 0 and 23 "
   ]
  },
  {
   "cell_type": "code",
   "execution_count": 40,
   "metadata": {},
   "outputs": [
    {
     "data": {
      "text/plain": [
       "array([ 0.        ,  3.83333333,  7.66666667, 11.5       , 15.33333333,\n",
       "       19.16666667, 23.        ])"
      ]
     },
     "execution_count": 40,
     "metadata": {},
     "output_type": "execute_result"
    }
   ],
   "source": [
    "arr = linspace(0, 23, 7)\n",
    "arr"
   ]
  },
  {
   "cell_type": "markdown",
   "metadata": {},
   "source": [
    "### Create an array with shape (2,5,1,5,2,1) containing only the number 5 "
   ]
  },
  {
   "cell_type": "code",
   "execution_count": 41,
   "metadata": {},
   "outputs": [],
   "source": [
    "# This is not possible"
   ]
  },
  {
   "cell_type": "markdown",
   "metadata": {},
   "source": [
    "### Eliminate all length-1 dimensions. See the function squeeze. "
   ]
  },
  {
   "cell_type": "code",
   "execution_count": 52,
   "metadata": {},
   "outputs": [
    {
     "name": "stdout",
     "output_type": "stream",
     "text": [
      "Shape of array before squeezing :  (2, 5, 1, 5, 2, 1)\n",
      "Shape of array after squeezing :  (2, 5, 5, 2)\n"
     ]
    }
   ],
   "source": [
    "arr = np.random.randint(1,10,100)\n",
    "arr = array.reshape(2,5,1,5,2,1)\n",
    "print(\"Shape of array before squeezing : \", arr.shape)\n",
    "arr = np.squeeze(arr)\n",
    "print(\"Shape of array after squeezing : \", arr.shape)"
   ]
  },
  {
   "cell_type": "markdown",
   "metadata": {},
   "source": [
    "### Reshape the resulting array from shape (2,5,3,2) to only 2D"
   ]
  },
  {
   "cell_type": "code",
   "execution_count": 63,
   "metadata": {},
   "outputs": [
    {
     "name": "stdout",
     "output_type": "stream",
     "text": [
      "Shape of array after squeezing :  (50, 2)\n"
     ]
    },
    {
     "data": {
      "text/plain": [
       "(25, 4)"
      ]
     },
     "execution_count": 63,
     "metadata": {},
     "output_type": "execute_result"
    }
   ],
   "source": [
    "print(\"Shape of array after squeezing : \", arr.shape)\n",
    "arr = arr.reshape(-1,4)\n",
    "arr.shape"
   ]
  },
  {
   "cell_type": "markdown",
   "metadata": {},
   "source": [
    "### Calculate the mean, std, var, max, min, of an array with shape (3,3,12,3) containing floats drawn from a normal distribution with mean 21 and sigma 4.5. see the np.random.normal. "
   ]
  },
  {
   "cell_type": "code",
   "execution_count": 68,
   "metadata": {},
   "outputs": [
    {
     "data": {
      "text/plain": [
       "array([[[[16.9329546 , 16.97234125, 18.77982389],\n",
       "         [18.14346959, 24.22603188, 23.70630074],\n",
       "         [29.79140354, 20.30663875, 22.95122595],\n",
       "         [22.19659718, 21.04238104, 24.54946171],\n",
       "         [25.32750526, 16.56345948, 24.29455845],\n",
       "         [18.83618337, 14.8082437 , 13.5967636 ],\n",
       "         [25.86455678, 16.90312697, 26.30748933],\n",
       "         [20.85517888, 20.59571669, 16.66334408],\n",
       "         [22.01965321, 25.02946153, 23.95018696],\n",
       "         [18.98766477, 24.16997121, 21.17816956],\n",
       "         [30.82389925, 28.31255976, 24.99696893],\n",
       "         [17.99009245, 21.22320931, 15.28523007]],\n",
       "\n",
       "        [[23.35198916, 23.10013917, 32.86128506],\n",
       "         [29.15728858, 25.87698942, 22.37596199],\n",
       "         [24.48839647, 21.91240093, 17.02808503],\n",
       "         [10.36973927, 18.66965198, 19.82041688],\n",
       "         [20.36944777, 20.54614136, 23.13627811],\n",
       "         [23.37986032, 23.63005481, 21.55291459],\n",
       "         [17.22564761, 21.82785404, 22.7017483 ],\n",
       "         [23.84511989, 19.60341955, 23.27119643],\n",
       "         [27.54185125, 24.98806182, 23.05909632],\n",
       "         [24.53784511, 17.76940322, 14.81431899],\n",
       "         [22.83126092, 24.39451137, 20.31535453],\n",
       "         [23.06818066, 17.94651995, 20.0324205 ]],\n",
       "\n",
       "        [[15.6830203 , 23.04035921, 22.67673151],\n",
       "         [18.97152593, 18.67629722, 18.90354892],\n",
       "         [20.26000232, 21.31637575, 15.53119442],\n",
       "         [17.81624807, 24.16875514, 16.83570565],\n",
       "         [28.60250482, 17.91712059, 19.02476059],\n",
       "         [24.34219711, 22.38090473, 30.70411097],\n",
       "         [25.77399578, 26.59335085, 24.45403382],\n",
       "         [20.32136803, 25.24240654, 23.72463751],\n",
       "         [20.86452144, 17.42266244, 16.89501263],\n",
       "         [22.69118575, 27.53415558, 19.86277221],\n",
       "         [18.95689157, 20.0877039 , 24.99147501],\n",
       "         [21.15495331, 23.05524184, 22.84918616]]],\n",
       "\n",
       "\n",
       "       [[[23.94275355, 21.13316759, 27.58845936],\n",
       "         [14.67324052, 20.5815308 , 25.79709757],\n",
       "         [14.7362178 , 19.47973782, 19.69952826],\n",
       "         [13.74112552, 28.26191121, 25.8394089 ],\n",
       "         [20.4682192 , 17.24541935, 13.19884152],\n",
       "         [23.73272113, 22.05110836, 22.2791961 ],\n",
       "         [24.16695787, 21.46723035, 14.27115353],\n",
       "         [22.9483533 , 18.63555678, 13.9002634 ],\n",
       "         [22.28494775, 21.23402367, 23.50554117],\n",
       "         [23.77622288, 20.84033227, 17.84607404],\n",
       "         [29.19780072, 12.42899907, 24.75751591],\n",
       "         [23.83684812, 20.26265725, 20.74767252]],\n",
       "\n",
       "        [[24.89470025, 22.81153623, 20.35826364],\n",
       "         [12.75894561, 30.06670211, 18.99372739],\n",
       "         [22.48399785, 18.41673064, 21.83203944],\n",
       "         [16.63638634, 22.58166602, 10.45680594],\n",
       "         [23.94050444, 14.18322856, 15.14072571],\n",
       "         [25.91652169, 17.99509322, 12.36517654],\n",
       "         [16.1968182 , 13.05701623, 21.21572325],\n",
       "         [26.80637354, 22.16971784, 22.37059041],\n",
       "         [26.61338089, 17.72825086, 21.5452068 ],\n",
       "         [17.54065885, 17.85597837, 20.56474132],\n",
       "         [23.95356881, 21.07760304, 19.90176475],\n",
       "         [24.99479546, 16.49730118, 28.39225063]],\n",
       "\n",
       "        [[12.37784008, 17.04592961, 26.83707101],\n",
       "         [28.45404857, 26.31950721, 16.74633866],\n",
       "         [21.66609834, 19.64540845, 21.07983659],\n",
       "         [28.06606265, 15.93717167, 19.62996145],\n",
       "         [19.40363978, 14.36158645, 13.84574837],\n",
       "         [24.73604824, 25.65993176, 18.8534337 ],\n",
       "         [18.43656802, 21.96873702, 21.88030807],\n",
       "         [14.38353248, 20.57378898, 18.59403184],\n",
       "         [23.74078156, 24.72236925, 19.43858043],\n",
       "         [27.71716383, 21.71904618, 19.60339367],\n",
       "         [19.82110822, 19.14622355, 19.28769901],\n",
       "         [19.25973525, 23.58614246, 19.92800159]]],\n",
       "\n",
       "\n",
       "       [[[23.49195105, 14.37831761, 22.76567022],\n",
       "         [18.54077551, 30.83020542, 20.17996682],\n",
       "         [21.98801546, 19.28030402, 12.82310505],\n",
       "         [26.501277  , 22.92168879, 23.0274584 ],\n",
       "         [26.95688871, 22.28455959, 23.01209839],\n",
       "         [14.35050542, 25.3843098 , 25.0815149 ],\n",
       "         [22.2173027 , 24.20624404, 22.5023185 ],\n",
       "         [19.38903085, 10.57306421, 22.12941042],\n",
       "         [24.7322219 , 20.27071583, 22.01334199],\n",
       "         [21.2043022 , 28.21062825, 20.11862195],\n",
       "         [24.35098729, 19.66136365, 22.43861674],\n",
       "         [12.33754157, 23.24428548, 20.00854281]],\n",
       "\n",
       "        [[13.92309051, 21.6484268 , 30.5321077 ],\n",
       "         [23.69816427, 26.28906698, 22.26726369],\n",
       "         [22.92022978, 23.7622394 , 15.87139692],\n",
       "         [24.51935899, 31.55168432, 16.91189704],\n",
       "         [14.6396053 , 22.33498743, 19.99937115],\n",
       "         [19.73338643, 14.57475143, 16.34611401],\n",
       "         [22.26926862, 28.16189268, 19.68330578],\n",
       "         [20.80562706, 23.90520692, 22.94603472],\n",
       "         [24.23899272, 17.86053116, 19.40966618],\n",
       "         [20.37528531, 14.90230209, 16.95857088],\n",
       "         [17.70019127, 18.61650439, 27.03058989],\n",
       "         [27.6656939 , 19.95472012, 21.40252853]],\n",
       "\n",
       "        [[17.04627983, 10.73870662, 29.93631929],\n",
       "         [23.19265192, 20.02751524, 16.61655668],\n",
       "         [23.27357499, 21.1803662 , 26.64211725],\n",
       "         [27.20391207, 21.89046856, 26.62930793],\n",
       "         [27.24494322, 18.29598292, 15.78578205],\n",
       "         [21.37479879, 21.25175439, 27.59167202],\n",
       "         [21.83131031, 14.83818255, 25.66853708],\n",
       "         [27.90970996, 15.59189233, 20.16171011],\n",
       "         [15.60428486, 20.49156998, 23.12536386],\n",
       "         [17.99144237, 22.29065455, 14.8567284 ],\n",
       "         [26.46583315, 22.48452204, 28.97877286],\n",
       "         [16.12030296, 20.09942965, 14.62156402]]]])"
      ]
     },
     "execution_count": 68,
     "metadata": {},
     "output_type": "execute_result"
    }
   ],
   "source": [
    "arr = np.random.normal(21,4.5,[3,3,12,3])\n",
    "arr"
   ]
  },
  {
   "cell_type": "code",
   "execution_count": 70,
   "metadata": {},
   "outputs": [
    {
     "name": "stdout",
     "output_type": "stream",
     "text": [
      "Mean :  21.2164398822474\n",
      "Std :  4.304212150465783\n",
      "Var :  18.52624223621728\n",
      "Min :  10.369739267365151\n",
      "Max :  32.86128506386565\n"
     ]
    }
   ],
   "source": [
    "print(\"Mean : \", np.mean(arr))\n",
    "print(\"Std : \", np.std(arr))\n",
    "print(\"Var : \", np.var(arr))\n",
    "print(\"Min : \", np.min(arr))\n",
    "print(\"Max : \", np.max(arr))"
   ]
  },
  {
   "cell_type": "markdown",
   "metadata": {},
   "source": [
    "### Do the same but not on all elements but only on the 2nd dimension."
   ]
  },
  {
   "cell_type": "code",
   "execution_count": 72,
   "metadata": {},
   "outputs": [],
   "source": [
    "arr = arr[0][0]   #array with only 2dimensions"
   ]
  },
  {
   "cell_type": "code",
   "execution_count": 74,
   "metadata": {},
   "outputs": [
    {
     "name": "stdout",
     "output_type": "stream",
     "text": [
      "Mean :  21.505050659140757\n",
      "Std :  4.191746274355125\n",
      "Var :  17.57073682857007\n",
      "Min :  13.596763600018686\n",
      "Max :  30.82389924968611\n"
     ]
    }
   ],
   "source": [
    "print(\"Mean : \", np.mean(arr))\n",
    "print(\"Std : \", np.std(arr))\n",
    "print(\"Var : \", np.var(arr))\n",
    "print(\"Min : \", np.min(arr))\n",
    "print(\"Max : \", np.max(arr))"
   ]
  },
  {
   "cell_type": "markdown",
   "metadata": {},
   "source": [
    "### Transform the array such that it is only 1d. See the function Flatten or ravel "
   ]
  },
  {
   "cell_type": "code",
   "execution_count": 77,
   "metadata": {},
   "outputs": [
    {
     "name": "stdout",
     "output_type": "stream",
     "text": [
      "Faltten array :  [16.9329546  16.97234125 18.77982389 18.14346959 24.22603188 23.70630074\n",
      " 29.79140354 20.30663875 22.95122595 22.19659718 21.04238104 24.54946171\n",
      " 25.32750526 16.56345948 24.29455845 18.83618337 14.8082437  13.5967636\n",
      " 25.86455678 16.90312697 26.30748933 20.85517888 20.59571669 16.66334408\n",
      " 22.01965321 25.02946153 23.95018696 18.98766477 24.16997121 21.17816956\n",
      " 30.82389925 28.31255976 24.99696893 17.99009245 21.22320931 15.28523007]\n",
      "Ravel array :  [16.9329546  16.97234125 18.77982389 18.14346959 24.22603188 23.70630074\n",
      " 29.79140354 20.30663875 22.95122595 22.19659718 21.04238104 24.54946171\n",
      " 25.32750526 16.56345948 24.29455845 18.83618337 14.8082437  13.5967636\n",
      " 25.86455678 16.90312697 26.30748933 20.85517888 20.59571669 16.66334408\n",
      " 22.01965321 25.02946153 23.95018696 18.98766477 24.16997121 21.17816956\n",
      " 30.82389925 28.31255976 24.99696893 17.99009245 21.22320931 15.28523007]\n"
     ]
    }
   ],
   "source": [
    "flat_arr = arr.flatten()\n",
    "print(\"Faltten array : \", flat_arr)\n",
    "\n",
    "ravel_arr = arr.ravel()\n",
    "print(\"Ravel array : \", ravel_arr)"
   ]
  },
  {
   "cell_type": "markdown",
   "metadata": {},
   "source": [
    "### Remove all values smaller 15 and larger 26. "
   ]
  },
  {
   "cell_type": "code",
   "execution_count": 82,
   "metadata": {},
   "outputs": [
    {
     "name": "stdout",
     "output_type": "stream",
     "text": [
      "[16.9329546  16.97234125 18.77982389 18.14346959 24.22603188 23.70630074\n",
      " 29.79140354 20.30663875 22.95122595 22.19659718 21.04238104 24.54946171\n",
      " 25.32750526 16.56345948 24.29455845 18.83618337 14.8082437  13.5967636\n",
      " 25.86455678 16.90312697 26.30748933 20.85517888 20.59571669 16.66334408\n",
      " 22.01965321 25.02946153 23.95018696 18.98766477 24.16997121 21.17816956\n",
      " 30.82389925 28.31255976 24.99696893 17.99009245 21.22320931 15.28523007]\n",
      "Updated array :  [16.9329546  16.97234125 18.77982389 18.14346959 24.22603188 23.70630074\n",
      " 20.30663875 22.95122595 22.19659718 21.04238104 24.54946171 25.32750526\n",
      " 16.56345948 24.29455845 18.83618337 25.86455678 16.90312697 20.85517888\n",
      " 20.59571669 16.66334408 22.01965321 25.02946153 23.95018696 18.98766477\n",
      " 24.16997121 21.17816956 24.99696893 17.99009245 21.22320931 15.28523007]\n"
     ]
    }
   ],
   "source": [
    "print(flat_arr)\n",
    "arr = flat_arr[flat_arr < 26]\n",
    "arr = arr[arr > 15]\n",
    "\n",
    "print(\"Updated array : \", arr)"
   ]
  },
  {
   "cell_type": "markdown",
   "metadata": {},
   "source": [
    "### Clip all values smaller 15 and larger 26 to NaN. See the function Clip"
   ]
  },
  {
   "cell_type": "code",
   "execution_count": 93,
   "metadata": {},
   "outputs": [
    {
     "name": "stdout",
     "output_type": "stream",
     "text": [
      "[16.9329546  16.97234125 18.77982389 18.14346959 24.22603188 23.70630074\n",
      " 27.         20.30663875 22.95122595 22.19659718 21.04238104 24.54946171\n",
      " 25.32750526 16.56345948 24.29455845 18.83618337 14.8082437  14.\n",
      " 25.86455678 16.90312697 26.30748933 20.85517888 20.59571669 16.66334408\n",
      " 22.01965321 25.02946153 23.95018696 18.98766477 24.16997121 21.17816956\n",
      " 27.         27.         24.99696893 17.99009245 21.22320931 15.28523007]\n"
     ]
    },
    {
     "data": {
      "text/plain": [
       "array([16.9329546 , 16.97234125, 18.77982389, 18.14346959, 24.22603188,\n",
       "       23.70630074,         nan, 20.30663875, 22.95122595, 22.19659718,\n",
       "       21.04238104, 24.54946171, 25.32750526, 16.56345948, 24.29455845,\n",
       "       18.83618337, 14.8082437 ,         nan, 25.86455678, 16.90312697,\n",
       "               nan, 20.85517888, 20.59571669, 16.66334408, 22.01965321,\n",
       "       25.02946153, 23.95018696, 18.98766477, 24.16997121, 21.17816956,\n",
       "               nan,         nan, 24.99696893, 17.99009245, 21.22320931,\n",
       "       15.28523007])"
      ]
     },
     "execution_count": 93,
     "metadata": {},
     "output_type": "execute_result"
    }
   ],
   "source": [
    "arr = np.clip(flat_arr, 14 , 27)\n",
    "print(arr)\n",
    "#out_array = out_array.astype('float')\n",
    "arr[arr>26]='nan'\n",
    "arr[arr<=14]='nan'\n",
    "arr"
   ]
  },
  {
   "cell_type": "markdown",
   "metadata": {},
   "source": [
    "### Calculate the sum of the resulting array. It should not be NaN!. "
   ]
  },
  {
   "cell_type": "code",
   "execution_count": 95,
   "metadata": {},
   "outputs": [
    {
     "name": "stdout",
     "output_type": "stream",
     "text": [
      "645.3497082492704\n"
     ]
    }
   ],
   "source": [
    "arr[np.isnan(arr)] = 0\n",
    "print(np.sum(arr))"
   ]
  },
  {
   "cell_type": "markdown",
   "metadata": {},
   "source": [
    "### Convert the NaN’s to 0.0. See Where "
   ]
  },
  {
   "cell_type": "code",
   "execution_count": 110,
   "metadata": {},
   "outputs": [
    {
     "name": "stdout",
     "output_type": "stream",
     "text": [
      "Original Array :  [ 1.  2.  3. nan nan 88. nan]\n",
      "Nans replaced with zeros :  [ 1.  2.  3.  0.  0. 88.  0.]\n"
     ]
    }
   ],
   "source": [
    "arr=np.array([1, 2, 3, nan, nan, 88, nan])\n",
    "print(\"Original Array : \", arr)\n",
    "arr[np.isnan(arr)] = 0\n",
    "print(\"Nans replaced with zeros : \", arr)"
   ]
  },
  {
   "cell_type": "markdown",
   "metadata": {},
   "source": [
    "### Save the array and load it again. "
   ]
  },
  {
   "cell_type": "code",
   "execution_count": 112,
   "metadata": {},
   "outputs": [
    {
     "data": {
      "text/plain": [
       "array([ 1.,  2.,  3.,  0.,  0., 88.,  0.])"
      ]
     },
     "execution_count": 112,
     "metadata": {},
     "output_type": "execute_result"
    }
   ],
   "source": [
    "np.save('array' , arr)\n",
    "np.load('array.npy')"
   ]
  }
 ],
 "metadata": {
  "kernelspec": {
   "display_name": "Python 3",
   "language": "python",
   "name": "python3"
  },
  "language_info": {
   "codemirror_mode": {
    "name": "ipython",
    "version": 3
   },
   "file_extension": ".py",
   "mimetype": "text/x-python",
   "name": "python",
   "nbconvert_exporter": "python",
   "pygments_lexer": "ipython3",
   "version": "3.8.8"
  }
 },
 "nbformat": 4,
 "nbformat_minor": 1
}
