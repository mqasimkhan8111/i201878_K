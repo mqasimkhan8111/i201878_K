{
 "cells": [
  {
   "cell_type": "markdown",
   "id": "b8018be2",
   "metadata": {},
   "source": [
    "# Task 1"
   ]
  },
  {
   "cell_type": "code",
   "execution_count": 17,
   "id": "fdb94f8b",
   "metadata": {},
   "outputs": [],
   "source": [
    "import pandas as pd\n",
    "import numpy as np\n",
    "\n",
    "df = pd.read_csv(\"play_tennis.csv\")\n",
    "df = df.drop(\"day\" , axis=1)"
   ]
  },
  {
   "cell_type": "code",
   "execution_count": 18,
   "id": "663d4bb6",
   "metadata": {},
   "outputs": [],
   "source": [
    "def fitness_calc(df, play, wind, humidity, temp, outlook):\n",
    "    p1 = 0\n",
    "    p2 = 0\n",
    "    p3 = 0\n",
    "    p4 = 0\n",
    "    playProb=0\n",
    "    \n",
    "    for i in range(len(df['play'])):\n",
    "        if(df['play'].iloc[i] == play):\n",
    "            playProb+=1\n",
    "        if(df['outlook'].iloc[i] == outlook and df['play'].iloc[i] == play):\n",
    "            p1+=1  \n",
    "        if(df['temp'].iloc[i] == temp and df['play'].iloc[i] == play):\n",
    "            p2+=1  \n",
    "        if(df['humidity'].iloc[i] == humidity and df['play'].iloc[i] == play):\n",
    "            p3+=1  \n",
    "        if(df['wind'].iloc[i] == wind and df['play'].iloc[i] == play):\n",
    "            p4+=1   \n",
    "    p1 = p1/playProb\n",
    "    p2 = p2/playProb\n",
    "    p3 = p3/playProb\n",
    "    p4 = p4/playProb \n",
    "    playProb=playProb/len(df['outlook'])\n",
    "    return (playProb*p1*p2*p3*p4)"
   ]
  },
  {
   "cell_type": "code",
   "execution_count": 27,
   "id": "58370904",
   "metadata": {},
   "outputs": [],
   "source": [
    "def fitness_calc2(w,h,t,o):\n",
    "    no  = (fitness_calc(df  , 'No'  , w, h, t, o))\n",
    "    yes = (fitness_calc(df , 'Yes' , w, h, t, o))\n",
    "    if (yes>no):\n",
    "        return \"Yes\"\n",
    "    else:\n",
    "        return \"No\" "
   ]
  },
  {
   "cell_type": "code",
   "execution_count": 35,
   "id": "3d5ef66d",
   "metadata": {},
   "outputs": [
    {
     "name": "stdout",
     "output_type": "stream",
     "text": [
      "Accuracy Achieved :  92.85714285714286\n"
     ]
    }
   ],
   "source": [
    "yes_p=[]\n",
    "no_p=[]\n",
    "l=[]\n",
    "for i in range(len(df['play'])):\n",
    "    yes_p.append(fitness_calc(df , 'Yes' , df['wind'].iloc[i] , df['humidity'].iloc[i] , df['temp'].iloc[i] , df['outlook'].iloc[i]))\n",
    "    no_p.append(fitness_calc(df  , 'No' ,  df['wind'].iloc[i] , df['humidity'].iloc[i] , df['temp'].iloc[i] , df['outlook'].iloc[i]))\n",
    "\n",
    "for i in range(len(yes_p)):\n",
    "    if(yes_p[i]>no_p[i]):\n",
    "        l.append('Yes')\n",
    "    else:\n",
    "        l.append('No')\n",
    "        \n",
    "counter=0\n",
    "for i in range(len(yes_p)):\n",
    "    if df['play'].iloc[i] == l[i]:\n",
    "        counter+=1\n",
    "    \n",
    "accur=counter/len(df['play'])\n",
    "accur*=100\n",
    "print(\"Accuracy Achieved : \", accur)"
   ]
  },
  {
   "cell_type": "markdown",
   "id": "936e8b4f",
   "metadata": {},
   "source": [
    "# Prediction Now"
   ]
  },
  {
   "cell_type": "code",
   "execution_count": 31,
   "id": "116c6118",
   "metadata": {},
   "outputs": [
    {
     "name": "stdout",
     "output_type": "stream",
     "text": [
      "Prediction on Play =  Yes\n"
     ]
    }
   ],
   "source": [
    "X = fitness_calc2('Weak' , 'High' , 'Hot' , 'Overcast')\n",
    "print(\"Prediction on Play = \", X)"
   ]
  },
  {
   "cell_type": "markdown",
   "id": "0e979eb6",
   "metadata": {},
   "source": [
    "# Task 2"
   ]
  },
  {
   "cell_type": "code",
   "execution_count": 32,
   "id": "1d8fef6c",
   "metadata": {},
   "outputs": [],
   "source": [
    "def predict_calc(pos , neg, test):\n",
    "    \n",
    "    pos=pos.lower()\n",
    "    neg=neg.lower()\n",
    "\n",
    "    spl_pos=pos.split()\n",
    "    spl_neg=neg.split()\n",
    "    \n",
    "    test=test.lower()\n",
    "    test_spl=test.split()\n",
    "    l1=[]\n",
    "    l2=[]\n",
    "    count=0 \n",
    "    for i in range(len(test_spl)):\n",
    "        count=0\n",
    "        for j in range(len(spl_pos)):\n",
    "            if(test_spl[i] == spl_pos[j]):\n",
    "                count+=1\n",
    "        if (count==0):\n",
    "            count=0.00000001\n",
    "        count=count/len(spl_pos)\n",
    "        l1.append(count)\n",
    "    \n",
    "    for i in range(len(test_spl)):\n",
    "        count=0\n",
    "        for j in range(len(spl_neg)):\n",
    "            if(test_spl[i] == spl_neg[j]):\n",
    "                count+=1\n",
    "                \n",
    "        if (count==0):\n",
    "            count=0.00000001\n",
    "        count=count/len(spl_neg)\n",
    "        l2.append(count)\n",
    "        \n",
    "    pos_v=1\n",
    "    neg_v=1\n",
    "    for i in range(len(l1)):\n",
    "        pos_v*=l1[i]\n",
    "        neg_v*=l2[i]\n",
    "    \n",
    "    pos_v*=(6/11)\n",
    "    neg_v*=(5/11)\n",
    "\n",
    "    if (pos_v>neg_v):\n",
    "        return \"Postive\"\n",
    "    else:\n",
    "        return \"Negative\""
   ]
  },
  {
   "cell_type": "code",
   "execution_count": 34,
   "id": "981f6942",
   "metadata": {},
   "outputs": [
    {
     "name": "stdout",
     "output_type": "stream",
     "text": [
      "Prediction on  Negative statement =  Negative\n",
      "Prediction on  positive statement =  Postive\n"
     ]
    }
   ],
   "source": [
    "result1  = \"Mangoes are not good\"\n",
    "result2 = \"Mangoes are good\"\n",
    "pos = \"I love Mangoes mangoes are a lot tastier than other fruits I like mangoes because they are good Apples are good too but I prefer mangoes People say mango is the king of fruit so that is why mangoes are good mangoes are good because they are juicy\"\n",
    "neg = \"Eating too many Mangoes can have a negative impact on your health mangoes are good but not too good, I like apples more than mangoes I don’t like mangoes because they are expensive Mangoes are not good I don’t like mangoes\"\n",
    "print(\"Prediction on  Negative statement = \", predict_calc(pos, neg, result1))\n",
    "print(\"Prediction on  positive statement = \", predict_calc(pos, neg, result2))"
   ]
  },
  {
   "cell_type": "code",
   "execution_count": null,
   "id": "0407b944",
   "metadata": {},
   "outputs": [],
   "source": []
  }
 ],
 "metadata": {
  "kernelspec": {
   "display_name": "Python 3",
   "language": "python",
   "name": "python3"
  },
  "language_info": {
   "codemirror_mode": {
    "name": "ipython",
    "version": 3
   },
   "file_extension": ".py",
   "mimetype": "text/x-python",
   "name": "python",
   "nbconvert_exporter": "python",
   "pygments_lexer": "ipython3",
   "version": "3.8.8"
  }
 },
 "nbformat": 4,
 "nbformat_minor": 5
}
