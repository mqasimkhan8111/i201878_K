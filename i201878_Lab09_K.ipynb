{
 "cells": [
  {
   "cell_type": "markdown",
   "id": "3530951d",
   "metadata": {},
   "source": [
    "# Task 1"
   ]
  },
  {
   "cell_type": "code",
   "execution_count": 1,
   "id": "35c791d5",
   "metadata": {},
   "outputs": [],
   "source": [
    "import math\n",
    "import numpy as np\n",
    "import pandas as pd"
   ]
  },
  {
   "cell_type": "code",
   "execution_count": 137,
   "id": "76f9706b",
   "metadata": {},
   "outputs": [],
   "source": [
    "df = pd.read_csv(\"play_tennis.csv\")\n",
    "df = df.drop('day', axis=1)"
   ]
  },
  {
   "cell_type": "code",
   "execution_count": 104,
   "id": "66f7642c",
   "metadata": {},
   "outputs": [],
   "source": [
    "def Entropy(x):\n",
    "    summ = 0\n",
    "    unq, count=np.unique(x, return_counts=True)\n",
    "    for i in count:\n",
    "        summ+=i/(len(x))*math.log2(i/(len(x)))\n",
    "    summ*=(-1)\n",
    "    return summ"
   ]
  },
  {
   "cell_type": "code",
   "execution_count": 105,
   "id": "a06dc02b",
   "metadata": {},
   "outputs": [],
   "source": [
    "def Entropy2(x,y):   \n",
    "    unqx , countx = np.unique(x , return_counts=True)\n",
    "    unqy , county = np.unique(y , return_counts=True)\n",
    "    label_entp = Entropy(y)\n",
    "    l1 = []\n",
    "    l2 = []\n",
    "    for j in unqx: \n",
    "        pos = 0\n",
    "        neg  = 0\n",
    "        for count in range(len(x)):\n",
    "            if(j == x[count]):\n",
    "                if(df['play'][count]=='Yes'):\n",
    "                    pos +=1\n",
    "                else:\n",
    "                    neg+=1\n",
    "        l1.append(pos)\n",
    "        l2.append(neg)    \n",
    "    summ=0\n",
    "    temp_l=[]\n",
    "    for i in range(0,len(countx)):\n",
    "        summ=0\n",
    "        if(l1[i]==0):\n",
    "            summ+=-(l2[i]/(countx[i]) *  math.log2(l2[i]/(countx[i])))\n",
    "        elif (l2[i]==0):\n",
    "            summ+=-(l1[i]/(countx[i]) *  math.log2(l1[i]/(countx[i])))  \n",
    "        else:\n",
    "            summ+=-(l1[i]/(countx[i]) *  math.log2(l1[i]/(countx[i])))\n",
    "            summ+=-(l2[i]/(countx[i]) *  math.log2(l2[i]/(countx[i])))\n",
    "        temp_l.append(summ)\n",
    "    tot=0\n",
    "    for i in range(len(countx)):\n",
    "        tot+=temp_l[i]*countx[i]/len(y)\n",
    "\n",
    "    IG = label_entp - tot\n",
    "    print(\"Information Gain : \", IG)\n",
    "    return (IG)"
   ]
  },
  {
   "cell_type": "code",
   "execution_count": 106,
   "id": "4871a81b",
   "metadata": {},
   "outputs": [
    {
     "name": "stdout",
     "output_type": "stream",
     "text": [
      "Information Gain :  0.24674981977443922\n",
      "Information Gain :  0.02922256565895487\n",
      "Information Gain :  0.15183550136234159\n",
      "Information Gain :  0.04812703040826949\n"
     ]
    }
   ],
   "source": [
    "IG1 = Entropy2(np.array(df['outlook']), np.array(df['play']))\n",
    "IG2 = Entropy2(np.array(df['temp']), np.array(df['play']))\n",
    "IG3 = Entropy2(np.array(df['humidity']), np.array(df['play']))\n",
    "IG4 = Entropy2(np.array(df['wind']), np.array(df['play']))"
   ]
  },
  {
   "cell_type": "code",
   "execution_count": 107,
   "id": "61184d36",
   "metadata": {},
   "outputs": [],
   "source": [
    "data=[]\n",
    "for i in df['outlook'].unique():\n",
    "    data.append(df[df['outlook']==i])    "
   ]
  },
  {
   "cell_type": "code",
   "execution_count": 108,
   "id": "b4df9f3f",
   "metadata": {},
   "outputs": [
    {
     "name": "stdout",
     "output_type": "stream",
     "text": [
      "[   outlook  temp humidity    wind play\n",
      "0    Sunny   Hot     High    Weak   No\n",
      "1    Sunny   Hot     High  Strong   No\n",
      "7    Sunny  Mild     High    Weak   No\n",
      "8    Sunny  Cool   Normal    Weak  Yes\n",
      "10   Sunny  Mild   Normal  Strong  Yes,      outlook  temp humidity    wind play\n",
      "2   Overcast   Hot     High    Weak  Yes\n",
      "6   Overcast  Cool   Normal  Strong  Yes\n",
      "11  Overcast  Mild     High  Strong  Yes\n",
      "12  Overcast   Hot   Normal    Weak  Yes,    outlook  temp humidity    wind play\n",
      "3     Rain  Mild     High    Weak  Yes\n",
      "4     Rain  Cool   Normal    Weak  Yes\n",
      "5     Rain  Cool   Normal  Strong   No\n",
      "9     Rain  Mild   Normal    Weak  Yes\n",
      "13    Rain  Mild     High  Strong   No]\n"
     ]
    }
   ],
   "source": [
    "print(data)"
   ]
  },
  {
   "cell_type": "code",
   "execution_count": 109,
   "id": "41148849",
   "metadata": {},
   "outputs": [],
   "source": [
    "df1 = pd.DataFrame(data[0])\n",
    "df2 = pd.DataFrame(data[1])\n",
    "df3 = pd.DataFrame(data[2])"
   ]
  },
  {
   "cell_type": "code",
   "execution_count": 124,
   "id": "de54b7d6",
   "metadata": {},
   "outputs": [
    {
     "data": {
      "text/html": [
       "<div>\n",
       "<style scoped>\n",
       "    .dataframe tbody tr th:only-of-type {\n",
       "        vertical-align: middle;\n",
       "    }\n",
       "\n",
       "    .dataframe tbody tr th {\n",
       "        vertical-align: top;\n",
       "    }\n",
       "\n",
       "    .dataframe thead th {\n",
       "        text-align: right;\n",
       "    }\n",
       "</style>\n",
       "<table border=\"1\" class=\"dataframe\">\n",
       "  <thead>\n",
       "    <tr style=\"text-align: right;\">\n",
       "      <th></th>\n",
       "      <th>outlook</th>\n",
       "      <th>temp</th>\n",
       "      <th>humidity</th>\n",
       "      <th>wind</th>\n",
       "      <th>play</th>\n",
       "    </tr>\n",
       "  </thead>\n",
       "  <tbody>\n",
       "    <tr>\n",
       "      <th>3</th>\n",
       "      <td>Rain</td>\n",
       "      <td>Mild</td>\n",
       "      <td>High</td>\n",
       "      <td>Weak</td>\n",
       "      <td>Yes</td>\n",
       "    </tr>\n",
       "    <tr>\n",
       "      <th>4</th>\n",
       "      <td>Rain</td>\n",
       "      <td>Cool</td>\n",
       "      <td>Normal</td>\n",
       "      <td>Weak</td>\n",
       "      <td>Yes</td>\n",
       "    </tr>\n",
       "    <tr>\n",
       "      <th>5</th>\n",
       "      <td>Rain</td>\n",
       "      <td>Cool</td>\n",
       "      <td>Normal</td>\n",
       "      <td>Strong</td>\n",
       "      <td>No</td>\n",
       "    </tr>\n",
       "    <tr>\n",
       "      <th>9</th>\n",
       "      <td>Rain</td>\n",
       "      <td>Mild</td>\n",
       "      <td>Normal</td>\n",
       "      <td>Weak</td>\n",
       "      <td>Yes</td>\n",
       "    </tr>\n",
       "    <tr>\n",
       "      <th>13</th>\n",
       "      <td>Rain</td>\n",
       "      <td>Mild</td>\n",
       "      <td>High</td>\n",
       "      <td>Strong</td>\n",
       "      <td>No</td>\n",
       "    </tr>\n",
       "  </tbody>\n",
       "</table>\n",
       "</div>"
      ],
      "text/plain": [
       "   outlook  temp humidity    wind play\n",
       "3     Rain  Mild     High    Weak  Yes\n",
       "4     Rain  Cool   Normal    Weak  Yes\n",
       "5     Rain  Cool   Normal  Strong   No\n",
       "9     Rain  Mild   Normal    Weak  Yes\n",
       "13    Rain  Mild     High  Strong   No"
      ]
     },
     "execution_count": 124,
     "metadata": {},
     "output_type": "execute_result"
    }
   ],
   "source": [
    "df3"
   ]
  },
  {
   "cell_type": "code",
   "execution_count": 113,
   "id": "28bc496d",
   "metadata": {},
   "outputs": [
    {
     "name": "stdout",
     "output_type": "stream",
     "text": [
      "Information Gain :  0.9709505944546686\n",
      "Information Gain :  0.4199730940219748\n",
      "Information Gain :  0.01997309402197478\n"
     ]
    }
   ],
   "source": [
    "IG1 = Entropy2(np.array(df1['temp']), np.array(df1['play']))\n",
    "IG2 = Entropy2(np.array(df1['humidity']), np.array(df1['play']))\n",
    "IG3 = Entropy2(np.array(df1['wind']), np.array(df1['play']))"
   ]
  },
  {
   "cell_type": "code",
   "execution_count": 114,
   "id": "6b9db193",
   "metadata": {},
   "outputs": [],
   "source": [
    "data=[]\n",
    "for i in df1['temp'].unique():\n",
    "    data.append(df1[df1['temp']==i]) "
   ]
  },
  {
   "cell_type": "code",
   "execution_count": 115,
   "id": "226b9050",
   "metadata": {},
   "outputs": [
    {
     "data": {
      "text/plain": [
       "[  outlook temp humidity    wind play\n",
       " 0   Sunny  Hot     High    Weak   No\n",
       " 1   Sunny  Hot     High  Strong   No,\n",
       "    outlook  temp humidity    wind play\n",
       " 7    Sunny  Mild     High    Weak   No\n",
       " 10   Sunny  Mild   Normal  Strong  Yes,\n",
       "   outlook  temp humidity  wind play\n",
       " 8   Sunny  Cool   Normal  Weak  Yes]"
      ]
     },
     "execution_count": 115,
     "metadata": {},
     "output_type": "execute_result"
    }
   ],
   "source": [
    "data"
   ]
  },
  {
   "cell_type": "code",
   "execution_count": 116,
   "id": "c4e5895e",
   "metadata": {},
   "outputs": [],
   "source": [
    "df4 = pd.DataFrame(data[0])\n",
    "df5 = pd.DataFrame(data[1])\n",
    "df6 = pd.DataFrame(data[2])"
   ]
  },
  {
   "cell_type": "code",
   "execution_count": 132,
   "id": "1a4e1031",
   "metadata": {},
   "outputs": [
    {
     "data": {
      "text/html": [
       "<div>\n",
       "<style scoped>\n",
       "    .dataframe tbody tr th:only-of-type {\n",
       "        vertical-align: middle;\n",
       "    }\n",
       "\n",
       "    .dataframe tbody tr th {\n",
       "        vertical-align: top;\n",
       "    }\n",
       "\n",
       "    .dataframe thead th {\n",
       "        text-align: right;\n",
       "    }\n",
       "</style>\n",
       "<table border=\"1\" class=\"dataframe\">\n",
       "  <thead>\n",
       "    <tr style=\"text-align: right;\">\n",
       "      <th></th>\n",
       "      <th>outlook</th>\n",
       "      <th>temp</th>\n",
       "      <th>humidity</th>\n",
       "      <th>wind</th>\n",
       "      <th>play</th>\n",
       "    </tr>\n",
       "  </thead>\n",
       "  <tbody>\n",
       "    <tr>\n",
       "      <th>7</th>\n",
       "      <td>Sunny</td>\n",
       "      <td>Mild</td>\n",
       "      <td>High</td>\n",
       "      <td>Weak</td>\n",
       "      <td>No</td>\n",
       "    </tr>\n",
       "    <tr>\n",
       "      <th>10</th>\n",
       "      <td>Sunny</td>\n",
       "      <td>Mild</td>\n",
       "      <td>Normal</td>\n",
       "      <td>Strong</td>\n",
       "      <td>Yes</td>\n",
       "    </tr>\n",
       "  </tbody>\n",
       "</table>\n",
       "</div>"
      ],
      "text/plain": [
       "   outlook  temp humidity    wind play\n",
       "7    Sunny  Mild     High    Weak   No\n",
       "10   Sunny  Mild   Normal  Strong  Yes"
      ]
     },
     "execution_count": 132,
     "metadata": {},
     "output_type": "execute_result"
    }
   ],
   "source": [
    "df5"
   ]
  },
  {
   "cell_type": "code",
   "execution_count": 127,
   "id": "e88aefa4",
   "metadata": {},
   "outputs": [
    {
     "name": "stdout",
     "output_type": "stream",
     "text": [
      "Information Gain :  0.01997309402197478\n",
      "Information Gain :  0.01997309402197478\n",
      "Information Gain :  0.4199730940219748\n"
     ]
    }
   ],
   "source": [
    "IG1 = Entropy2(np.array(df3['temp']), np.array(df3['play']))\n",
    "IG2 = Entropy2(np.array(df3['humidity']), np.array(df3['play']))\n",
    "IG3 = Entropy2(np.array(df3['wind']), np.array(df3['play']))"
   ]
  },
  {
   "cell_type": "code",
   "execution_count": 128,
   "id": "670145b9",
   "metadata": {},
   "outputs": [],
   "source": [
    "data=[]\n",
    "for i in df3['wind'].unique():\n",
    "    data.append(df3[df3['wind']==i]) "
   ]
  },
  {
   "cell_type": "code",
   "execution_count": 129,
   "id": "7b2013fc",
   "metadata": {},
   "outputs": [],
   "source": [
    "df7 = pd.DataFrame(data[0])\n",
    "df8 = pd.DataFrame(data[1])"
   ]
  },
  {
   "cell_type": "code",
   "execution_count": 133,
   "id": "869e83e3",
   "metadata": {},
   "outputs": [
    {
     "data": {
      "text/html": [
       "<div>\n",
       "<style scoped>\n",
       "    .dataframe tbody tr th:only-of-type {\n",
       "        vertical-align: middle;\n",
       "    }\n",
       "\n",
       "    .dataframe tbody tr th {\n",
       "        vertical-align: top;\n",
       "    }\n",
       "\n",
       "    .dataframe thead th {\n",
       "        text-align: right;\n",
       "    }\n",
       "</style>\n",
       "<table border=\"1\" class=\"dataframe\">\n",
       "  <thead>\n",
       "    <tr style=\"text-align: right;\">\n",
       "      <th></th>\n",
       "      <th>outlook</th>\n",
       "      <th>temp</th>\n",
       "      <th>humidity</th>\n",
       "      <th>wind</th>\n",
       "      <th>play</th>\n",
       "    </tr>\n",
       "  </thead>\n",
       "  <tbody>\n",
       "    <tr>\n",
       "      <th>3</th>\n",
       "      <td>Rain</td>\n",
       "      <td>Mild</td>\n",
       "      <td>High</td>\n",
       "      <td>Weak</td>\n",
       "      <td>Yes</td>\n",
       "    </tr>\n",
       "    <tr>\n",
       "      <th>4</th>\n",
       "      <td>Rain</td>\n",
       "      <td>Cool</td>\n",
       "      <td>Normal</td>\n",
       "      <td>Weak</td>\n",
       "      <td>Yes</td>\n",
       "    </tr>\n",
       "    <tr>\n",
       "      <th>9</th>\n",
       "      <td>Rain</td>\n",
       "      <td>Mild</td>\n",
       "      <td>Normal</td>\n",
       "      <td>Weak</td>\n",
       "      <td>Yes</td>\n",
       "    </tr>\n",
       "  </tbody>\n",
       "</table>\n",
       "</div>"
      ],
      "text/plain": [
       "  outlook  temp humidity  wind play\n",
       "3    Rain  Mild     High  Weak  Yes\n",
       "4    Rain  Cool   Normal  Weak  Yes\n",
       "9    Rain  Mild   Normal  Weak  Yes"
      ]
     },
     "execution_count": 133,
     "metadata": {},
     "output_type": "execute_result"
    }
   ],
   "source": [
    "df7"
   ]
  },
  {
   "cell_type": "code",
   "execution_count": 134,
   "id": "2ca647a9",
   "metadata": {},
   "outputs": [],
   "source": [
    "def Test(x):\n",
    "    if x[0]=='Overcast':\n",
    "        return 'Yes'\n",
    "    elif x[0] == 'Rain':\n",
    "        if x[3] == 'Weak':\n",
    "            return 'Yes'\n",
    "        elif x[3] == 'Strong':\n",
    "            return 'No'\n",
    "    elif x[0] == 'Sunny':\n",
    "        if x[2] == 'High':\n",
    "            return 'No'\n",
    "        elif x[2] == 'Normal':\n",
    "            return 'Yes'        "
   ]
  },
  {
   "cell_type": "code",
   "execution_count": 135,
   "id": "3f1fd9d7",
   "metadata": {},
   "outputs": [
    {
     "data": {
      "text/plain": [
       "'No'"
      ]
     },
     "execution_count": 135,
     "metadata": {},
     "output_type": "execute_result"
    }
   ],
   "source": [
    "data=['Rain' , 'Cool' , 'Normal', 'Strong']\n",
    "Test(data)"
   ]
  },
  {
   "cell_type": "code",
   "execution_count": 136,
   "id": "687440e5",
   "metadata": {},
   "outputs": [
    {
     "data": {
      "text/plain": [
       "'Yes'"
      ]
     },
     "execution_count": 136,
     "metadata": {},
     "output_type": "execute_result"
    }
   ],
   "source": [
    "data=['Rain' , 'Cool' , 'Normal' , 'Weak']\n",
    "Test(data)"
   ]
  },
  {
   "cell_type": "markdown",
   "id": "636790e7",
   "metadata": {},
   "source": [
    "### Decision Tree  Below"
   ]
  },
  {
   "cell_type": "markdown",
   "id": "aa8a3283",
   "metadata": {},
   "source": [
    "#### outlook = overcast -----> play yes\n",
    "#### outlook = sunny check humidity\n",
    "#### humidity = high -----> play no\n",
    "#### humidity = normal -----> play yes\n",
    "#### outlook = rain check wind\n",
    "#### wind = strong -----> play yes\n",
    "#### wind = weak -----> play no "
   ]
  }
 ],
 "metadata": {
  "kernelspec": {
   "display_name": "Python 3",
   "language": "python",
   "name": "python3"
  },
  "language_info": {
   "codemirror_mode": {
    "name": "ipython",
    "version": 3
   },
   "file_extension": ".py",
   "mimetype": "text/x-python",
   "name": "python",
   "nbconvert_exporter": "python",
   "pygments_lexer": "ipython3",
   "version": "3.8.8"
  }
 },
 "nbformat": 4,
 "nbformat_minor": 5
}
