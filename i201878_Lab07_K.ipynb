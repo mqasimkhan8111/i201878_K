{
 "cells": [
  {
   "cell_type": "code",
   "execution_count": 38,
   "id": "a5f937bf",
   "metadata": {},
   "outputs": [],
   "source": [
    "from collections import defaultdict \n",
    "from collections import Counter\n",
    "pos1 = \"I love mangoes Mangoes are a lot tastier than other fruits I like mangoes because they are good Apples are good too but I prefer mangoes People say mango is the king of fruit so that is why mangoes are good Mangoes are good because they are juicy\"\n",
    "neg1 = \"Eating too many mangoes can have a negative impact on your health Mangoes are good but not too good I like apples more than mangoes I don’t like mangoes because they are expensive Mangoes are not good I don’t like mangoes\""
   ]
  },
  {
   "cell_type": "markdown",
   "id": "0565fc06",
   "metadata": {},
   "source": [
    "#  Self-Built Model Train and Test"
   ]
  },
  {
   "cell_type": "code",
   "execution_count": 39,
   "id": "e6fef8c5",
   "metadata": {},
   "outputs": [],
   "source": [
    "pos = pos1.lower().split()\n",
    "neg = neg1.lower().split()\n",
    "temp1 = Counter(pos)\n",
    "temp2 = Counter(neg)\n",
    "sizeofvocab = len(Counter((pos1+' '+neg1).lower().split()))"
   ]
  },
  {
   "cell_type": "code",
   "execution_count": 40,
   "id": "2aa6a1da",
   "metadata": {},
   "outputs": [],
   "source": [
    "def function1():\n",
    "    return (0+1)/(sizeofvocab+len(pos))\n",
    "def function2():\n",
    "    return (0+1)/(sizeofvocab+len(neg))\n",
    "def function3(freq , sizeofvocab , both):\n",
    "    return (freq+1)/(sizeofvocab+both)\n",
    "\n",
    "posdict = defaultdict(function1)\n",
    "negdict = defaultdict(function2)\n",
    "\n",
    "def Train():\n",
    "    for i,j in temp1.items():\n",
    "        posdict[i] = function3(j , sizeofvocab, len(pos))\n",
    "    \n",
    "    for i,j in temp2.items():\n",
    "        negdict[i] = function3(j , sizeofvocab, len(neg)) "
   ]
  },
  {
   "cell_type": "code",
   "execution_count": 41,
   "id": "9f1612e2",
   "metadata": {},
   "outputs": [],
   "source": [
    "Train() "
   ]
  },
  {
   "cell_type": "code",
   "execution_count": 42,
   "id": "92a1bfad",
   "metadata": {},
   "outputs": [],
   "source": [
    "def Test(statement):\n",
    "    statement = statement.lower().split()\n",
    "    pos_prob=6/11\n",
    "    neg_prob=5/11\n",
    "    for i in statement:\n",
    "        pos_prob*=posdict[i]\n",
    "        neg_prob*=negdict[i]\n",
    "    \n",
    "    if(pos_prob>neg_prob):\n",
    "        return (pos_prob, neg_prob, \"Positive\")\n",
    "    else:\n",
    "        return (pos_prob, neg_prob, \"Negative\")"
   ]
  },
  {
   "cell_type": "code",
   "execution_count": 43,
   "id": "11a6b2e9",
   "metadata": {},
   "outputs": [
    {
     "data": {
      "text/plain": [
       "(6.649812016853371e-13, 2.156504419028044e-13, 'Positive')"
      ]
     },
     "execution_count": 43,
     "metadata": {},
     "output_type": "execute_result"
    }
   ],
   "source": [
    "Test('umer is eating mangoes and is happy')"
   ]
  },
  {
   "cell_type": "code",
   "execution_count": 44,
   "id": "eaff05b6",
   "metadata": {},
   "outputs": [
    {
     "data": {
      "text/plain": [
       "(2.955472007490388e-13, 4.3130088380560873e-13, 'Negative')"
      ]
     },
     "execution_count": 44,
     "metadata": {},
     "output_type": "execute_result"
    }
   ],
   "source": [
    "Test('I want to throw away all mangoes')"
   ]
  },
  {
   "cell_type": "code",
   "execution_count": 53,
   "id": "4be4f123",
   "metadata": {},
   "outputs": [
    {
     "data": {
      "text/plain": [
       "(2.38624071016772e-08, 9.129777108397127e-09, 'Positive')"
      ]
     },
     "execution_count": 53,
     "metadata": {},
     "output_type": "execute_result"
    }
   ],
   "source": [
    "Test(\"Qasim Khan is here\")"
   ]
  }
 ],
 "metadata": {
  "kernelspec": {
   "display_name": "Python 3",
   "language": "python",
   "name": "python3"
  },
  "language_info": {
   "codemirror_mode": {
    "name": "ipython",
    "version": 3
   },
   "file_extension": ".py",
   "mimetype": "text/x-python",
   "name": "python",
   "nbconvert_exporter": "python",
   "pygments_lexer": "ipython3",
   "version": "3.8.8"
  }
 },
 "nbformat": 4,
 "nbformat_minor": 5
}
